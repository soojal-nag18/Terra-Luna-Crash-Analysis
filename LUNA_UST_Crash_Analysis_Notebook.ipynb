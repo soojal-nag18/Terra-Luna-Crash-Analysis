{
 "cells": [
  {
   "cell_type": "markdown",
   "id": "e874734a",
   "metadata": {},
   "source": [
    "# 📉 Terra LUNA & UST Crash Analysis\n",
    "\n",
    "This notebook analyzes the historic Terra LUNA and TerraUSD (UST) collapse using real price data, visualizations, and market cap loss estimates."
   ]
  },
  {
   "cell_type": "code",
   "execution_count": null,
   "id": "350f36d9",
   "metadata": {},
   "outputs": [],
   "source": [
    "# !pip install yfinance pandas matplotlib\n",
    "\n",
    "import yfinance as yf\n",
    "import pandas as pd\n",
    "import matplotlib.pyplot as plt"
   ]
  },
  {
   "cell_type": "markdown",
   "id": "dd70b831",
   "metadata": {},
   "source": [
    "## 📌 Project Background\n",
    "TerraUSD (UST) was a decentralized algorithmic stablecoin pegged to $1 using LUNA. Arbitrage kept the peg, but when UST lost trust in May 2022, it triggered massive LUNA hyperinflation and a $40+ billion collapse."
   ]
  },
  {
   "cell_type": "code",
   "execution_count": null,
   "id": "5b77dbbb",
   "metadata": {},
   "outputs": [],
   "source": [
    "luna = yf.Ticker('LUNC-USD')\n",
    "luna_data = luna.history(\n",
    "    start='2021-01-01',\n",
    "    end='2022-06-01',\n",
    "    interval='1d'\n",
    ")"
   ]
  },
  {
   "cell_type": "code",
   "execution_count": null,
   "id": "1663980a",
   "metadata": {},
   "outputs": [],
   "source": [
    "ust = yf.Ticker('UST-USD')\n",
    "ust_data = ust.history(\n",
    "    start='2021-01-01',\n",
    "    end='2022-06-01',\n",
    "    interval='1d'\n",
    ")"
   ]
  },
  {
   "cell_type": "code",
   "execution_count": null,
   "id": "21fed109",
   "metadata": {},
   "outputs": [],
   "source": [
    "plt.figure(figsize=(14, 7))\n",
    "plt.plot(luna_data.index, luna_data['Close'], label='LUNA Classic', color='red')\n",
    "plt.plot(ust_data.index, ust_data['Close'], label='UST Stablecoin', color='orange')\n",
    "\n",
    "plt.title('Terra LUNA & UST Daily Prices (2021–2022)', fontsize=16)\n",
    "plt.xlabel('Date')\n",
    "plt.ylabel('Price (USD)')\n",
    "plt.legend()\n",
    "plt.grid(True)\n",
    "plt.show()"
   ]
  },
  {
   "cell_type": "code",
   "execution_count": null,
   "id": "c9659045",
   "metadata": {},
   "outputs": [],
   "source": [
    "luna_peak_price = luna_data['Close'].max()\n",
    "luna_final_price = luna_data['Close'].iloc[-1]\n",
    "luna_peak_supply = 350_000_000  # Estimated supply before hyperinflation\n",
    "\n",
    "initial_market_cap = luna_peak_price * luna_peak_supply\n",
    "final_market_cap = luna_final_price * luna_peak_supply\n",
    "loss = initial_market_cap - final_market_cap\n",
    "\n",
    "print(f\"🔴 Highest LUNA price: ${luna_peak_price:.2f}\")\n",
    "print(f\"🔵 Last LUNA price in range: ${luna_final_price:.8f}\")\n",
    "print(f\"💥 Approximate market cap lost: ${loss/1e9:.2f} billion USD\")"
   ]
  },
  {
   "cell_type": "markdown",
   "id": "c34e23c2",
   "metadata": {},
   "source": [
    "## 📌 Conclusion\n",
    "The Terra collapse wiped out over $40 billion in market value and exposed the risks of algorithmic stablecoins. This reshaped DeFi trust and triggered regulatory debates on crypto stability."
   ]
  }
 ],
 "metadata": {},
 "nbformat": 4,
 "nbformat_minor": 5
}
